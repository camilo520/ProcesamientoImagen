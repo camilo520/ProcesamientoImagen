{
  "nbformat": 4,
  "nbformat_minor": 0,
  "metadata": {
    "colab": {
      "name": "Clase 3.ipynb",
      "version": "0.3.2",
      "provenance": [],
      "include_colab_link": true
    },
    "kernelspec": {
      "name": "python3",
      "display_name": "Python 3"
    }
  },
  "cells": [
    {
      "cell_type": "markdown",
      "metadata": {
        "id": "view-in-github",
        "colab_type": "text"
      },
      "source": [
        "<a href=\"https://colab.research.google.com/github/camilo520/ProcesamientoImagen/blob/master/Clase_3.ipynb\" target=\"_parent\"><img src=\"https://colab.research.google.com/assets/colab-badge.svg\" alt=\"Open In Colab\"/></a>"
      ]
    },
    {
      "cell_type": "code",
      "metadata": {
        "id": "zrqPCO-Bd5W1",
        "colab_type": "code",
        "colab": {
          "base_uri": "https://localhost:8080/",
          "height": 122
        },
        "outputId": "264f1b2b-1a67-475d-dba5-715e0d8b7303"
      },
      "source": [
        "from google.colab import drive\n",
        "drive.mount('/content/drive')"
      ],
      "execution_count": 1,
      "outputs": [
        {
          "output_type": "stream",
          "text": [
            "Go to this URL in a browser: https://accounts.google.com/o/oauth2/auth?client_id=947318989803-6bn6qk8qdgf4n4g3pfee6491hc0brc4i.apps.googleusercontent.com&redirect_uri=urn%3Aietf%3Awg%3Aoauth%3A2.0%3Aoob&scope=email%20https%3A%2F%2Fwww.googleapis.com%2Fauth%2Fdocs.test%20https%3A%2F%2Fwww.googleapis.com%2Fauth%2Fdrive%20https%3A%2F%2Fwww.googleapis.com%2Fauth%2Fdrive.photos.readonly%20https%3A%2F%2Fwww.googleapis.com%2Fauth%2Fpeopleapi.readonly&response_type=code\n",
            "\n",
            "Enter your authorization code:\n",
            "··········\n",
            "Mounted at /content/drive\n"
          ],
          "name": "stdout"
        }
      ]
    },
    {
      "cell_type": "code",
      "metadata": {
        "id": "XmpXWA0afbCv",
        "colab_type": "code",
        "colab": {
          "base_uri": "https://localhost:8080/",
          "height": 34
        },
        "outputId": "838f9962-d18c-4c76-aa83-456eb771d384"
      },
      "source": [
        "#importar librerias\n",
        "\n",
        "import numpy as np\n",
        "import matplotlib.pyplot as plt\n",
        "import cv2\n",
        "import os\n",
        "\n",
        "path='/content/drive/My Drive/ProcesamientoImagen/'\n",
        "os.chdir(path)\n",
        "!pwd\n",
        "%matplotlib inline"
      ],
      "execution_count": 3,
      "outputs": [
        {
          "output_type": "stream",
          "text": [
            "/content/drive/My Drive/ProcesamientoImagen\n"
          ],
          "name": "stdout"
        }
      ]
    },
    {
      "cell_type": "code",
      "metadata": {
        "id": "L2ySkzmkgC9J",
        "colab_type": "code",
        "colab": {}
      },
      "source": [
        "def displayGray3(a, b, c, title1=\"Original\", title2=\"Edited\", title3=\"Edited\"):\n",
        "    plt.figure(figsize=(3,3))\n",
        "    plt.subplot(131),plt.imshow(a, cmap='gray'), plt.title(title1)\n",
        "    plt.xticks([]), plt.yticks([])\n",
        "    plt.subplot(132),plt.imshow(b, cmap='gray'), plt.title(title2)\n",
        "    plt.xticks([]), plt.yticks([])\n",
        "    plt.subplot(133),plt.imshow(c, cmap='gray'), plt.title(title3)\n",
        "    plt.xticks([]), plt.yticks([])\n",
        "    plt.show()\n",
        "    \n",
        "    \n",
        "def displayGray2(a, b, c, title1=\"Original\", title2=\"Edited\"):\n",
        "    plt.figure(figsize=(10,10))\n",
        "    plt.subplot(121),plt.imshow(a, cmap='gray'), plt.title(title1)\n",
        "    plt.xticks([]), plt.yticks([])\n",
        "    plt.subplot(122),plt.imshow(b, cmap='gray'), plt.title(title2)\n",
        "    plt.xticks([]), plt.yticks([])\n",
        "    plt.show()\n",
        "    \n",
        "    \n",
        "def displayColor3(a, b, c, title1=\"Original\", title2=\"Edited\", title3=\"Edited\"):\n",
        "    plt.figure(figsize=(10,10))\n",
        "    plt.subplot(131),plt.imshow(a), plt.title(title1)\n",
        "    plt.xticks([]), plt.yticks([])\n",
        "    plt.subplot(132),plt.imshow(b), plt.title(title2)\n",
        "    plt.xticks([]), plt.yticks([])\n",
        "    plt.subplot(133),plt.imshow(c), plt.title(title3)\n",
        "    plt.xticks([]), plt.yticks([])\n",
        "    plt.show()    \n",
        "    \n",
        "    \n",
        "def displayColor2(a, b, title1=\"Original\", title2=\"Edited\"):\n",
        "    plt.figure(figsize=(10,10))\n",
        "    plt.subplot(131),plt.imshow(a), plt.title(title1)\n",
        "    plt.xticks([]), plt.yticks([])\n",
        "    plt.subplot(132),plt.imshow(b), plt.title(title2)\n",
        "    plt.xticks([]), plt.yticks([])\n",
        "    plt.show()        "
      ],
      "execution_count": 0,
      "outputs": []
    }
  ]
}